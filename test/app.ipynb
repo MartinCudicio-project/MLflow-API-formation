{
 "metadata": {
  "language_info": {
   "codemirror_mode": {
    "name": "ipython",
    "version": 3
   },
   "file_extension": ".py",
   "mimetype": "text/x-python",
   "name": "python",
   "nbconvert_exporter": "python",
   "pygments_lexer": "ipython3",
   "version": "3.8.5-final"
  },
  "orig_nbformat": 2,
  "kernelspec": {
   "name": "python385jvsc74a57bd06974ff6fe45e06618fc028aca5cf50c5fffb32f784569b07e974e5404784be4f",
   "display_name": "Python 3.8.5 64-bit ('base': conda)"
  },
  "metadata": {
   "interpreter": {
    "hash": "6974ff6fe45e06618fc028aca5cf50c5fffb32f784569b07e974e5404784be4f"
   }
  }
 },
 "nbformat": 4,
 "nbformat_minor": 2,
 "cells": [
  {
   "source": [
    "#### Dans ce Notebook nous allons simuler des prédictions puis nous allons calculer et afficher les performances de nos modèles \n",
    "\n",
    "Il faut utiliser l'environnement de train comme Kernel "
   ],
   "cell_type": "markdown",
   "metadata": {}
  },
  {
   "cell_type": "code",
   "execution_count": 134,
   "metadata": {},
   "outputs": [],
   "source": [
    "import pandas as pd \n",
    "import numpy as np \n",
    "\n",
    "import requests\n",
    "import json\n",
    "\n",
    "from sklearn.metrics import mean_squared_error, mean_absolute_error, r2_score\n",
    "\n",
    "import matplotlib.pyplot as plt\n",
    "import datetime as dt\n",
    "from dateutil.relativedelta import *\n",
    "from pandas.tseries.offsets import MonthEnd"
   ]
  },
  {
   "source": [
    "On commence par récuperer nos données \n",
    "\n",
    "Le dataset comprend également des donnees pour les mois suivant. \n",
    "\n",
    "Nous les utiliserons pour simuler des predictions et calculer les potentielles performances de notre modele servi par l'API "
   ],
   "cell_type": "markdown",
   "metadata": {}
  },
  {
   "cell_type": "code",
   "execution_count": 135,
   "metadata": {},
   "outputs": [
    {
     "output_type": "execute_result",
     "data": {
      "text/plain": [
       "               id       date         price  bedrooms  bathrooms  sqft_living  \\\n",
       "0      5561000190 2014-05-02  4.375000e+05         3       2.25         1970   \n",
       "1       472000620 2014-05-02  7.900000e+05         3       2.50         2600   \n",
       "2      1024069009 2014-05-02  6.750000e+05         5       2.50         2820   \n",
       "3      7853361370 2014-05-02  5.550000e+05         4       2.50         3310   \n",
       "4      5056500260 2014-05-02  4.400000e+05         4       2.25         2160   \n",
       "...           ...        ...           ...       ...        ...          ...   \n",
       "21608  1422700040 2015-05-14  2.102280e+05         3       1.00         1170   \n",
       "21609  8730000270 2015-05-14  4.124146e+05         2       2.75         1370   \n",
       "21610  7923600250 2015-05-15  5.171361e+05         5       2.00         1870   \n",
       "21611  5101400871 2015-05-24  5.121449e+05         2       1.75         1390   \n",
       "21612  9106000005 2015-05-27  1.506500e+06         4       2.25         3750   \n",
       "\n",
       "       sqft_lot  floors  waterfront  view  ...  sqft_above  sqft_basement  \\\n",
       "0         35100     2.0           0     0  ...        1970              0   \n",
       "1          4750     1.0           0     0  ...        1700            900   \n",
       "2         67518     2.0           0     0  ...        2820              0   \n",
       "3          6500     2.0           0     0  ...        3310              0   \n",
       "4          8119     1.0           0     0  ...        1080           1080   \n",
       "...         ...     ...         ...   ...  ...         ...            ...   \n",
       "21608      7320     1.0           0     0  ...        1170              0   \n",
       "21609      1140     2.0           0     0  ...        1080            290   \n",
       "21610      7344     1.5           0     0  ...        1870              0   \n",
       "21611      6670     1.0           0     0  ...         720            670   \n",
       "21612      5000     2.0           0     0  ...        2440           1310   \n",
       "\n",
       "       yr_built  yr_renovated  zipcode      lat     long  sqft_living15  \\\n",
       "0          1977             0    98027  47.4635 -121.991           2340   \n",
       "1          1951             0    98117  47.6833 -122.400           2380   \n",
       "2          1979             0    98029  47.5794 -122.025           2820   \n",
       "3          2012             0    98065  47.5150 -121.870           2380   \n",
       "4          1966             0    98006  47.5443 -122.177           1850   \n",
       "...         ...           ...      ...      ...      ...            ...   \n",
       "21608      1962             0    98188  47.4685 -122.282           2040   \n",
       "21609      2009             0    98133  47.7052 -122.343           1370   \n",
       "21610      1960             0    98007  47.5951 -122.144           1870   \n",
       "21611      1941             0    98115  47.6914 -122.308            920   \n",
       "21612      1924             0    98115  47.6747 -122.303           2170   \n",
       "\n",
       "       sqft_lot15  coef_ajustement  \n",
       "0           35100         1.000000  \n",
       "1            4750         1.000000  \n",
       "2           48351         1.000000  \n",
       "3            5000         1.000000  \n",
       "4            9000         1.000000  \n",
       "...           ...              ...  \n",
       "21608        7320         1.148787  \n",
       "21609        1090         1.148787  \n",
       "21610        7650         1.149191  \n",
       "21611        6380         1.149596  \n",
       "21612        4590         1.150000  \n",
       "\n",
       "[21613 rows x 22 columns]"
      ],
      "text/html": "<div>\n<style scoped>\n    .dataframe tbody tr th:only-of-type {\n        vertical-align: middle;\n    }\n\n    .dataframe tbody tr th {\n        vertical-align: top;\n    }\n\n    .dataframe thead th {\n        text-align: right;\n    }\n</style>\n<table border=\"1\" class=\"dataframe\">\n  <thead>\n    <tr style=\"text-align: right;\">\n      <th></th>\n      <th>id</th>\n      <th>date</th>\n      <th>price</th>\n      <th>bedrooms</th>\n      <th>bathrooms</th>\n      <th>sqft_living</th>\n      <th>sqft_lot</th>\n      <th>floors</th>\n      <th>waterfront</th>\n      <th>view</th>\n      <th>...</th>\n      <th>sqft_above</th>\n      <th>sqft_basement</th>\n      <th>yr_built</th>\n      <th>yr_renovated</th>\n      <th>zipcode</th>\n      <th>lat</th>\n      <th>long</th>\n      <th>sqft_living15</th>\n      <th>sqft_lot15</th>\n      <th>coef_ajustement</th>\n    </tr>\n  </thead>\n  <tbody>\n    <tr>\n      <th>0</th>\n      <td>5561000190</td>\n      <td>2014-05-02</td>\n      <td>4.375000e+05</td>\n      <td>3</td>\n      <td>2.25</td>\n      <td>1970</td>\n      <td>35100</td>\n      <td>2.0</td>\n      <td>0</td>\n      <td>0</td>\n      <td>...</td>\n      <td>1970</td>\n      <td>0</td>\n      <td>1977</td>\n      <td>0</td>\n      <td>98027</td>\n      <td>47.4635</td>\n      <td>-121.991</td>\n      <td>2340</td>\n      <td>35100</td>\n      <td>1.000000</td>\n    </tr>\n    <tr>\n      <th>1</th>\n      <td>472000620</td>\n      <td>2014-05-02</td>\n      <td>7.900000e+05</td>\n      <td>3</td>\n      <td>2.50</td>\n      <td>2600</td>\n      <td>4750</td>\n      <td>1.0</td>\n      <td>0</td>\n      <td>0</td>\n      <td>...</td>\n      <td>1700</td>\n      <td>900</td>\n      <td>1951</td>\n      <td>0</td>\n      <td>98117</td>\n      <td>47.6833</td>\n      <td>-122.400</td>\n      <td>2380</td>\n      <td>4750</td>\n      <td>1.000000</td>\n    </tr>\n    <tr>\n      <th>2</th>\n      <td>1024069009</td>\n      <td>2014-05-02</td>\n      <td>6.750000e+05</td>\n      <td>5</td>\n      <td>2.50</td>\n      <td>2820</td>\n      <td>67518</td>\n      <td>2.0</td>\n      <td>0</td>\n      <td>0</td>\n      <td>...</td>\n      <td>2820</td>\n      <td>0</td>\n      <td>1979</td>\n      <td>0</td>\n      <td>98029</td>\n      <td>47.5794</td>\n      <td>-122.025</td>\n      <td>2820</td>\n      <td>48351</td>\n      <td>1.000000</td>\n    </tr>\n    <tr>\n      <th>3</th>\n      <td>7853361370</td>\n      <td>2014-05-02</td>\n      <td>5.550000e+05</td>\n      <td>4</td>\n      <td>2.50</td>\n      <td>3310</td>\n      <td>6500</td>\n      <td>2.0</td>\n      <td>0</td>\n      <td>0</td>\n      <td>...</td>\n      <td>3310</td>\n      <td>0</td>\n      <td>2012</td>\n      <td>0</td>\n      <td>98065</td>\n      <td>47.5150</td>\n      <td>-121.870</td>\n      <td>2380</td>\n      <td>5000</td>\n      <td>1.000000</td>\n    </tr>\n    <tr>\n      <th>4</th>\n      <td>5056500260</td>\n      <td>2014-05-02</td>\n      <td>4.400000e+05</td>\n      <td>4</td>\n      <td>2.25</td>\n      <td>2160</td>\n      <td>8119</td>\n      <td>1.0</td>\n      <td>0</td>\n      <td>0</td>\n      <td>...</td>\n      <td>1080</td>\n      <td>1080</td>\n      <td>1966</td>\n      <td>0</td>\n      <td>98006</td>\n      <td>47.5443</td>\n      <td>-122.177</td>\n      <td>1850</td>\n      <td>9000</td>\n      <td>1.000000</td>\n    </tr>\n    <tr>\n      <th>...</th>\n      <td>...</td>\n      <td>...</td>\n      <td>...</td>\n      <td>...</td>\n      <td>...</td>\n      <td>...</td>\n      <td>...</td>\n      <td>...</td>\n      <td>...</td>\n      <td>...</td>\n      <td>...</td>\n      <td>...</td>\n      <td>...</td>\n      <td>...</td>\n      <td>...</td>\n      <td>...</td>\n      <td>...</td>\n      <td>...</td>\n      <td>...</td>\n      <td>...</td>\n      <td>...</td>\n    </tr>\n    <tr>\n      <th>21608</th>\n      <td>1422700040</td>\n      <td>2015-05-14</td>\n      <td>2.102280e+05</td>\n      <td>3</td>\n      <td>1.00</td>\n      <td>1170</td>\n      <td>7320</td>\n      <td>1.0</td>\n      <td>0</td>\n      <td>0</td>\n      <td>...</td>\n      <td>1170</td>\n      <td>0</td>\n      <td>1962</td>\n      <td>0</td>\n      <td>98188</td>\n      <td>47.4685</td>\n      <td>-122.282</td>\n      <td>2040</td>\n      <td>7320</td>\n      <td>1.148787</td>\n    </tr>\n    <tr>\n      <th>21609</th>\n      <td>8730000270</td>\n      <td>2015-05-14</td>\n      <td>4.124146e+05</td>\n      <td>2</td>\n      <td>2.75</td>\n      <td>1370</td>\n      <td>1140</td>\n      <td>2.0</td>\n      <td>0</td>\n      <td>0</td>\n      <td>...</td>\n      <td>1080</td>\n      <td>290</td>\n      <td>2009</td>\n      <td>0</td>\n      <td>98133</td>\n      <td>47.7052</td>\n      <td>-122.343</td>\n      <td>1370</td>\n      <td>1090</td>\n      <td>1.148787</td>\n    </tr>\n    <tr>\n      <th>21610</th>\n      <td>7923600250</td>\n      <td>2015-05-15</td>\n      <td>5.171361e+05</td>\n      <td>5</td>\n      <td>2.00</td>\n      <td>1870</td>\n      <td>7344</td>\n      <td>1.5</td>\n      <td>0</td>\n      <td>0</td>\n      <td>...</td>\n      <td>1870</td>\n      <td>0</td>\n      <td>1960</td>\n      <td>0</td>\n      <td>98007</td>\n      <td>47.5951</td>\n      <td>-122.144</td>\n      <td>1870</td>\n      <td>7650</td>\n      <td>1.149191</td>\n    </tr>\n    <tr>\n      <th>21611</th>\n      <td>5101400871</td>\n      <td>2015-05-24</td>\n      <td>5.121449e+05</td>\n      <td>2</td>\n      <td>1.75</td>\n      <td>1390</td>\n      <td>6670</td>\n      <td>1.0</td>\n      <td>0</td>\n      <td>0</td>\n      <td>...</td>\n      <td>720</td>\n      <td>670</td>\n      <td>1941</td>\n      <td>0</td>\n      <td>98115</td>\n      <td>47.6914</td>\n      <td>-122.308</td>\n      <td>920</td>\n      <td>6380</td>\n      <td>1.149596</td>\n    </tr>\n    <tr>\n      <th>21612</th>\n      <td>9106000005</td>\n      <td>2015-05-27</td>\n      <td>1.506500e+06</td>\n      <td>4</td>\n      <td>2.25</td>\n      <td>3750</td>\n      <td>5000</td>\n      <td>2.0</td>\n      <td>0</td>\n      <td>0</td>\n      <td>...</td>\n      <td>2440</td>\n      <td>1310</td>\n      <td>1924</td>\n      <td>0</td>\n      <td>98115</td>\n      <td>47.6747</td>\n      <td>-122.303</td>\n      <td>2170</td>\n      <td>4590</td>\n      <td>1.150000</td>\n    </tr>\n  </tbody>\n</table>\n<p>21613 rows × 22 columns</p>\n</div>"
     },
     "metadata": {},
     "execution_count": 135
    }
   ],
   "source": [
    "# import Data \n",
    "\n",
    "data = pd.read_csv('../data/flat_data.csv') \n",
    "# on convertit en datetime notre colonne de date \n",
    "\n",
    "data[\"date\"] = pd.to_datetime(data[\"date\"]) \n",
    "data "
   ]
  },
  {
   "cell_type": "code",
   "execution_count": 136,
   "metadata": {},
   "outputs": [],
   "source": [
    "# fonction qui nous renvoit un x (12features) et un Y(price) à partir du dataset ajusté sur un interval entre deux dates\n",
    "def extract_interval(start_date,end_date):\n",
    "    try:\n",
    "        # on filtre sur notre interval de date\n",
    "        mask = (data['date'] >= start_date) & (data['date'] <= end_date)\n",
    "        data_prep = data.loc[mask]\n",
    "    \n",
    "    except Exception as ex:\n",
    "        print(ex)\n",
    "        raise print(\"mauvais format de dates, attendu AAAA-MM-JJ\")\n",
    "    x= data_prep[['view','lat','waterfront','bedrooms','bathrooms','sqft_basement','sqft_above','sqft_living','sqft_living15','floors','grade','yr_built']]\n",
    "\n",
    "    Y = data_prep['price']\n",
    "    return x,Y"
   ]
  },
  {
   "cell_type": "code",
   "execution_count": 137,
   "metadata": {},
   "outputs": [],
   "source": [
    "# fonction pour évaluer nos prédictions\n",
    "\n",
    "def eval_metrics(actual, pred):\n",
    "    rmse = np.sqrt(mean_squared_error(actual, pred))\n",
    "    mae = mean_absolute_error(actual, pred)\n",
    "    r2 = r2_score(actual, pred)\n",
    "    return rmse, mae, r2"
   ]
  },
  {
   "cell_type": "code",
   "execution_count": 236,
   "metadata": {},
   "outputs": [],
   "source": [
    "# on va tester notre modèle sur chaque mois à partir du start_date \n",
    "# pour assurer la stabilité des résultats nous lissons les performances sur 2 mois glissants\n",
    "\n",
    "def display_res(start_date,end_date): \n",
    "  r2_tab=[] \n",
    "  rmse_tab=[] \n",
    "  date_tab=[] \n",
    "  start_date = pd.to_datetime(start_date)+relativedelta(months=1)\n",
    "  start_date = start_date.strftime(\"%Y-%m-%d\")\n",
    "  for beg in pd.date_range(start_date, end_date, freq='MS'): \n",
    "      # on lisse notre résultat sur 2 mois glissants \n",
    "      start = pd.to_datetime(beg)-relativedelta(months=1) \n",
    "      end = beg + MonthEnd(0) \n",
    "      (x,Y) = extract_interval(start,end) \n",
    "      print(start.strftime(\"%Y-%m-%d\"),\"-->\",end.strftime(\"%Y-%m-%d\"),'nbr_pred',len(Y)) \n",
    "      batchRecords = x.to_json(orient=\"records\")\n",
    "      predicted_prices = predictPriceBatch(batchRecords)\n",
    "      (rmse,mae,r2) = eval_metrics(Y,predicted_prices) \n",
    "      r2_tab.append(r2) \n",
    "      rmse_tab.append(rmse) \n",
    "      date_tab.append(beg.strftime(\"%Y-%m-%d\")) \n",
    "      print(\"  RMSE: %s\" % rmse) \n",
    "      print(\"  MAE: %s\" % mae) \n",
    "      print(\"  R2: %s\" % r2) \n",
    "      print()    \n",
    "   \n",
    "  # affichage graphique \n",
    "  fig, ax = plt.subplots(figsize = (10, 5)) \n",
    "  # titre du graphique  \n",
    "  plt.title('evolution des metrics en fonction du temps')   \n",
    "   \n",
    "  # using the twinx() for creating another \n",
    "  # axes object for secondry y-Axis \n",
    "  ax2 = ax.twinx() \n",
    "  ax.plot(date_tab, r2_tab, color = 'g',label=\"R2\") \n",
    "  ax2.plot(date_tab, rmse_tab, color = 'b',label=\"RSME\") \n",
    "  ax.set_xlabel('Date') \n",
    "  ax2.set_ylabel('RSME', color = \"b\") \n",
    "  ax.set_ylabel('R2', color = 'g') \n",
    "\n",
    "  ax.axhline(y=0.78,color='gray',linestyle='--')\n",
    "  ax2.set_ylim(100000,250000)\n",
    "  ax.set_ylim(0.7,0.85)\n",
    "  # defining display layout \n",
    "  fig.legend() \n",
    "  plt.show()"
   ]
  },
  {
   "cell_type": "code",
   "execution_count": 237,
   "metadata": {},
   "outputs": [],
   "source": [
    "# créons notre fonction de prédiction\n",
    "# cette fonction va faire un appel unitaire à l'API avec une requete POST\n",
    "\n",
    "# exemple payload\n",
    "# payload = {\n",
    "#    \"view\" : 0,\n",
    "#    \"lat\": 47.4639,\n",
    "#    \"waterfront\": 0,\n",
    "#    \"bedrooms\": 3,\n",
    "#    \"bathrooms\": 2.5,\n",
    "#    \"sqft_basement\": 0,\n",
    "#    \"sqft_above\": 3970,\n",
    "#    \"sqft_living\": 3970,\n",
    "#    \"sqft_living15\": 5340,\n",
    "#    \"floors\":7,\n",
    "#    \"grade\":7,\n",
    "#    \"yr_built\": 1973\n",
    "# }\n",
    "\n",
    "def predictPriceStream(payload):\n",
    "    # payload est un JSON \n",
    "    url = \"http://localhost:8000/stream\"\n",
    "\n",
    "    headers = {\n",
    "    'Content-Type': 'text/plain'\n",
    "    }\n",
    "    response = requests.request(\"POST\", url, headers=headers, data=json.dumps(payload))\n",
    "    return response.text\n",
    "\n",
    "def predictPriceBatch(payloads):\n",
    "    # payload est un JSON \n",
    "    url = \"http://localhost:8000/batch\"\n",
    "\n",
    "    headers = {\n",
    "    'Content-Type': 'text/plain'\n",
    "    }\n",
    "    response = requests.request(\"POST\", url, headers=headers, data=payloads)\n",
    "    return json.loads(response.text)"
   ]
  },
  {
   "cell_type": "code",
   "execution_count": 1,
   "metadata": {
    "tags": []
   },
   "outputs": [],
   "source": [
    "# on fait notre première observation avec un modèle entrainé avec des données de Mai à Décembre 2015\n",
    "# on observe une diminution des performances à partir du mois de Février (drift des données liée à une augmentation des prix en fonction du temps)\n"
   ]
  },
  {
   "cell_type": "code",
   "execution_count": 2,
   "metadata": {},
   "outputs": [],
   "source": [
    "# nous avons réentrainé un modèle avec des données plus récentes allant jusqu'a Février 2015.\n",
    "# nous voyons que le nouveau modèle est beaucoup plus précis sur les mois de Mars à Mai 2015\n",
    "\n",
    "# Nous observons alors qu'un réentrainement est encore à prévoir au mois suivant\n",
    "# Cependant, les performances au mois de Mai seront toujours plus exactes que celles du modèle précédent"
   ]
  }
 ]
}